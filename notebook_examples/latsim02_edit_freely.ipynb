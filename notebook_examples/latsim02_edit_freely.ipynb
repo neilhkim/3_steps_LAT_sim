{
  "cells": [
    {
      "cell_type": "markdown",
      "metadata": {
        "id": "TeJUCg3ujOkO"
      },
      "source": [
        "# <Gillespie simulation combining \"pMHC binding - LAT nucleation - T-cell activation\">\n",
        "\n",
        "Version: latsim02_edit_freely \\\\\n",
        "[Refer to the master version](https://colab.research.google.com/drive/1cs49PDxbP_Ac83jh84h4xfowCZYF6SbN?usp=sharing)\n",
        "\n",
        "Created by: Neil H Kim"
      ]
    },
    {
      "cell_type": "markdown",
      "metadata": {
        "id": "S-Rc0eIs9nef"
      },
      "source": [
        "![ref](https://i.imgur.com/gfRofsE.png)\n",
        "\n",
        "![ref](https://i.imgur.com/8n7tNzF.png)\n",
        "\n",
        "* Use policy \\\\\n",
        ". Any Groves Lab person can comment/edit this notebook. \\\\\n",
        ". Do not worry about messing things up because the original version is stored in my [github repository](https://github.com/neilhkim/LATsim01). \n",
        "\n",
        "* Future works \\\\\n",
        "Major: \\\\\n",
        ". ~~Include LAT condensate lifetime.~~ \\\\\n",
        ". ~~Include models of information integration~~  \\\\\n",
        ". ~~Count cooccurring LAT condensates~~ \\\\\n",
        ". ~~Make the hard-threshold value as an input option.~~ \\\\\n",
        ". P15 vs. k_off graph (req: Sungi) \\\\\n",
        ". ~~Make the hard-threshold version faster~~ \\\\\n",
        ". ~~Apply probabilistic activation per max nLAT (bootstrap). Since we generate the whole trajectory first, this is doable.~~ \\\\\n",
        ". ~~Draw Response function (Prob_activation vs. kbind) with different kunbind. (req: Sungi)~~ \\\\\n",
        " . Find out which parameter changes the steepness of the response curve. (req: Sungi)\n",
        "\n",
        "\n"
      ]
    },
    {
      "cell_type": "markdown",
      "metadata": {
        "id": "YTyDAtlU-_Gi"
      },
      "source": [
        "# **Package imports, graph setups, and function definitions**\n",
        "(You may skip reading this part and go to the next) \\\\\n",
        "(However, you must run this part before running the following parts.)"
      ]
    },
    {
      "cell_type": "code",
      "execution_count": null,
      "metadata": {
        "cellView": "code",
        "id": "5X1ItTFC--fr"
      },
      "outputs": [],
      "source": [
        "#@title\n",
        "\n",
        "import random\n",
        "from tracemalloc import stop\n",
        "import numpy as np\n",
        "import scipy.stats as stats\n",
        "import matplotlib.pyplot as plt\n",
        "import matplotlib as mpl\n",
        "import seaborn as sns\n",
        "from csv import writer \n",
        "import pandas as pd\n",
        "import itertools\n",
        "import sys\n",
        "from ipywidgets import FloatProgress, IntProgress\n",
        "from IPython.display import display\n",
        "import datetime\n",
        "\n",
        "mpl.rcParams['pdf.fonttype'] = 42\n",
        "plt.rcParams['font.size'] = 12\n",
        "plt.rcParams['axes.linewidth'] = 2\n",
        "mpl.rcParams['xtick.direction'] = 'in'\n",
        "mpl.rcParams['ytick.direction'] = 'in'\n",
        "mpl.rcParams['xtick.major.width'] = 2\n",
        "mpl.rcParams['xtick.minor.width'] = 2\n",
        "mpl.rcParams['ytick.major.width'] = 2\n",
        "mpl.rcParams['ytick.minor.width'] = 2\n",
        "\n",
        "\n",
        "def LAT_formation_func(t):\n",
        "    ret = 0.3 * stats.gamma.pdf(t, a=4, scale=7) #a=2.86, scale=7.03 for pMHC a=2.52, scale=10.48 for CD80\n",
        "    return ret\n",
        "\n",
        "def calc_propensities(pMhcLifeTimes, kbind, kunbind):\n",
        "    # Three scenarios - 0) new pMHC binds, 1) bound pMHC unbinds, 2) bound pMHC forms LAT\n",
        "    nBoundPMhc = pMhcLifeTimes.size\n",
        "    propensities = np.array([]) \n",
        "    propensities = np.append(propensities, kbind)  # Scenario 0)\n",
        "    propensities = np.append(propensities, kunbind * nBoundPMhc) # Scenario 1)\n",
        "    if pMhcLifeTimes.size > 0: # Scenario 2)\n",
        "        for t in np.nditer(pMhcLifeTimes):\n",
        "            #########################################################################################\n",
        "            LAT_assembly_rate = LAT_formation_func(t)\n",
        "            #########################################################################################\n",
        "            propensities = np.append(propensities, LAT_assembly_rate)\n",
        "    return propensities\n",
        "\n",
        "def sample_discrete(probs):\n",
        "    # Generate random number\n",
        "    q = np.random.rand()\n",
        "    # Find index\n",
        "    i = 0\n",
        "    p_sum = 0.0\n",
        "    while p_sum < q:\n",
        "        p_sum += probs[i]\n",
        "        i += 1\n",
        "    return i - 1\n",
        "\n",
        "def gillespie_draw(propensity_func, pMhcLifeTimes, args=()):\n",
        "    # Compute propensities\n",
        "    calc_propensities = propensity_func(pMhcLifeTimes, *args)\n",
        "    # Sum of propensities\n",
        "    props_sum = calc_propensities.sum()\n",
        "    # Compute next time\n",
        "    time = np.random.exponential(1.0 / props_sum)\n",
        "    # Compute discrete probabilities of each reaction\n",
        "    rxn_probs = calc_propensities / props_sum\n",
        "    # Draw reaction from this distribution\n",
        "    rxn = sample_discrete(rxn_probs)\n",
        "    return rxn, time\n",
        "\n",
        "def gillespie_ssa(propensity_func, time_points, args=(), nLATthreshold=3,early_termination_option=False, stop_at_current_lat_n=100):\n",
        "    # Initialize output\n",
        "    nSpecies = 2\n",
        "    pop_out = np.empty((len(time_points), nSpecies), dtype=int)\n",
        "\n",
        "    # Initialize and perform simulation\n",
        "    i_time = 1\n",
        "    i = 0\n",
        "    t = time_points[0]\n",
        "    nTimepoints = time_points.size\n",
        "    boundPMhcIndices = np.array([])\n",
        "    pMhcLifeLog = np.array([])\n",
        "    '''\n",
        "    pMhcLifeLog[0].size == time_points.size \n",
        "    (Examples)\n",
        "    pMhcLifeLog[i] (non-productive life) : [0, 0, 0, 0, 0, 0, np.nan, np.nan, ..., np.nan] : {bound, unbind}\n",
        "    pMhcLifeLog[j] (producctive life)    : [0, 0, 1, 1, 1, 1,  np.nan, np.nan, ... np.nan] : {bound, produce, unbind}\n",
        "    '''\n",
        "    pMhcLifeTimes = np.array([])\n",
        "    pMhcLifeTimes = np.reshape(pMhcLifeTimes, (-1,2)) # [index, lifetime]\n",
        "    remainingLatLifeTimes = np.array([])\n",
        "    remainingLatLifeTimes = np.reshape(remainingLatLifeTimes, (-1,2)) # [index, lifetime]\n",
        "    nBoundPMhc = 0\n",
        "    nLat = 0\n",
        "    pop_out[0,:] = np.array([0, 0])\n",
        "\n",
        "    pMhcIndex = int(0)\n",
        "    latIndex = int(0)\n",
        "\n",
        "    boundPMhcIndices = []\n",
        "    productivePMhcIndices = []\n",
        "\n",
        "    while i < len(time_points):\n",
        "        while t < time_points[i_time]:\n",
        "\n",
        "            population_previous = np.array([nBoundPMhc,nLat])\n",
        "\n",
        "            # draw the event and time step\n",
        "            event, dt = gillespie_draw(propensity_func, pMhcLifeTimes[:,1], args) # event number also indicates the index of the pMhc that results in LAT condensation.\n",
        "\n",
        "            if not isinstance(event, int):\n",
        "                print('event is not integer')\n",
        "                quit()    \n",
        "\n",
        "            # Process which event happened.\n",
        "            if event == 0: # new binding\n",
        "                pMhcLifeTimes = np.append(pMhcLifeTimes, [pMhcIndex, 0])\n",
        "                pMhcLifeTimes = np.reshape(pMhcLifeTimes, (-1,2))\n",
        "                entry = np.empty(nTimepoints)*np.nan\n",
        "                entry[0] = 0\n",
        "                pMhcLifeLog = np.append(pMhcLifeLog, entry)\n",
        "                pMhcLifeLog = np.reshape(pMhcLifeLog, (-1,nTimepoints))\n",
        "                boundPMhcIndices.append(int(pMhcIndex))\n",
        "                pMhcIndex += 1\n",
        "\n",
        "            elif event == 1: # unbinding\n",
        "                random_index = random.randrange(len(boundPMhcIndices))\n",
        "                poppedPMhcId = int(boundPMhcIndices.pop(random_index))\n",
        "                # randIdex = random.randrange(pMhcLifeTimes.size)\n",
        "                # unbindingTimes = np.append(unbindingTimes, pMhcLifeTimes[randIdex])\n",
        "                i = np.argwhere(pMhcLifeTimes[:,0]==poppedPMhcId)\n",
        "                if len(i) > 1:\n",
        "                    print('popped more than 1?')\n",
        "                    quit()   \n",
        "                pMhcLifeTimes = np.delete(pMhcLifeTimes, i, 0)                    \n",
        "\n",
        "            else: # LAT condensation\n",
        "                alpha, scale = 1.78, 1/0.0592\n",
        "                selectLT = np.random.gamma(alpha, scale)\n",
        "                addarray = np.array([latIndex, selectLT])\n",
        "                remainingLatLifeTimes = np.append(remainingLatLifeTimes, addarray)\n",
        "                remainingLatLifeTimes = np.reshape(remainingLatLifeTimes, (-1,2))\n",
        "                latIndex += 1\n",
        "                prodIdxAmongLifeTimes = event - 2  # event number 2, 3, ... means LAT condensate producing pMHC's index is 0, 1, ...\n",
        "                productivePMhcIndices.append(int(pMhcLifeTimes[prodIdxAmongLifeTimes,0]))\n",
        "                pMhcLifeTimes = np.delete(pMhcLifeTimes,prodIdxAmongLifeTimes, axis=0) \n",
        "\n",
        "            nBoundPMhc = len(boundPMhcIndices)\n",
        "            \n",
        "            # Increment time\n",
        "            pMhcLifeTimes[:,1] += dt\n",
        "            remainingLatLifeTimes[:,1] -= dt\n",
        "            subZeroIdx = np.argwhere(remainingLatLifeTimes[:,1] < 0)\n",
        "            remainingLatLifeTimes = np.delete(remainingLatLifeTimes, subZeroIdx, axis=0) \n",
        "            t += dt\n",
        "            nLat = len(remainingLatLifeTimes)\n",
        "\n",
        "        # Update the index\n",
        "        i = np.searchsorted(time_points > t, True)\n",
        "        \n",
        "        pop_out[i_time:min(i,len(time_points))] = population_previous\n",
        "        if early_termination_option:\n",
        "          if nLat >= nLATthreshold:\n",
        "              pop_out[i:len(time_points)] = [-1, nLat]\n",
        "              break;\n",
        "        if nLat >= stop_at_current_lat_n:\n",
        "              pop_out[i:len(time_points)] = [-1, nLat+10]\n",
        "              break;\n",
        "\n",
        "        bNotP_indices = [item for item in boundPMhcIndices if item not in productivePMhcIndices]\n",
        "        bAndP_indices = [item for item in boundPMhcIndices if item in productivePMhcIndices]\n",
        "        bNotP_indices = [int(x) for x in bNotP_indices]\n",
        "        bAndP_indices = [int(x) for x in bAndP_indices]\n",
        "\n",
        "        for x in bNotP_indices:\n",
        "            earlistNanPosition = np.where(np.isnan(pMhcLifeLog[x]))[0][0]\n",
        "            pMhcLifeLog[x,earlistNanPosition:earlistNanPosition+i-i_time] = int(0)\n",
        "\n",
        "        for x in bAndP_indices:\n",
        "            earlistNanPosition = np.where(np.isnan(pMhcLifeLog[x]))[0][0]\n",
        "            pMhcLifeLog[x,earlistNanPosition:earlistNanPosition+i-i_time] = int(1)\n",
        "\n",
        "        # Increment index\n",
        "        i_time = i\n",
        "  \n",
        "    return pop_out, pMhcLifeLog\n",
        "\n",
        "def calc_activation_prob(x):\n",
        "    # x^4.28/(x^4.28 + 3^4.28)\n",
        "    K = 4.28\n",
        "    EC50 = 2\n",
        "    prob = x ** K / (x ** K + EC50 ** K)\n",
        "    return prob\n",
        "\n",
        "def run(\n",
        "    ligand_densities = [.01, .05, .1, .3, .5], \n",
        "    kunbind_list = [0.042, 0.11], \n",
        "    nCell = 1, \n",
        "    endtime = 200, \n",
        "    nTimePoints = 100, \n",
        "    n_P_act_estimation = 1,\n",
        "    nLATthreshold = 3,\n",
        "    plotTimeTraces = False,\n",
        "    plotResponseCurve = False,\n",
        "    early_termination_option = False,\n",
        "    probabilistic_activation = False,\n",
        "    make_output_files = False,\n",
        "    stop_at_current_lat_n = 100,\n",
        "    outputname = ''\n",
        "    ):\n",
        "\n",
        "    if probabilistic_activation and early_termination_option:\n",
        "        sys.exit(\"probabilistic_activation and early_termination_option cannot both be True.\")\n",
        "\n",
        "    # The known kunbind of MCC is 0.042/s and T102S is 0.11/s\n",
        "    # np.random.seed(51) # Seed random number generator for reproducibility\n",
        "    time_points = np.linspace(0, endtime, nTimePoints)\n",
        "    LIGAND_DENSITY_TO_KBIND_FACTOR = 1.3 # Measured by Darren and Mark.\n",
        "    kbind_list = [ld * LIGAND_DENSITY_TO_KBIND_FACTOR for ld in ligand_densities]\n",
        "    df = pd.DataFrame(columns = ['kunbind', 'kbind', 'ligand_density', 'prob_activate', 'nCell'])\n",
        "    for kunbind in kunbind_list:\n",
        "        print(f'\\n================ LIGAND:  kunbind = {kunbind} / s')\n",
        "        for kbind in kbind_list:\n",
        "            # df = pd.DataFrame()\n",
        "            args = (kbind, kunbind)\n",
        "            # Initialize output array\n",
        "            samples = np.empty((nCell, len(time_points), 2), dtype=int)\n",
        "            pMhcLifeLogs = np.array([])\n",
        "            print(f'\\n~~~ kunbind = {kunbind} / s, ligand density = {kbind/LIGAND_DENSITY_TO_KBIND_FACTOR:.3f} / um2')\n",
        "            \n",
        "            \n",
        "            status = f'ligand: {kunbind}/s density: {kbind/LIGAND_DENSITY_TO_KBIND_FACTOR:.3f}/um2'\n",
        "            progbar = IntProgress(\n",
        "                      min=0, max=nCell, \n",
        "                      description=f'{nCell} cells',\n",
        "                      ) # instantiate the bar\n",
        "\n",
        "            print(status)\n",
        "            display(progbar)\n",
        "            for j in range(n_P_act_estimation):\n",
        "                nActivated = 0\n",
        "                progbar.value = 0\n",
        "                for i in range(nCell):\n",
        "                    progbar.value += i\n",
        "                    samples[i,:,:], temp = gillespie_ssa(\n",
        "                                                          calc_propensities, time_points, args=args, \n",
        "                                                          nLATthreshold=nLATthreshold, early_termination_option=early_termination_option, \n",
        "                                                          stop_at_current_lat_n=stop_at_current_lat_n\n",
        "                                                         )\n",
        "                    pMhcLifeLogs = np.append(pMhcLifeLogs, temp)\n",
        "                    pMhcLifeLogs = np.reshape(pMhcLifeLogs, (-1,len(time_points)))\n",
        "                    \n",
        "                    # Decision making mechanism (e.g., nLAT>=3)\n",
        "                    max_nLAT = max(samples[i,:,1])\n",
        "                    if probabilistic_activation:\n",
        "                        if np.random.rand() < calc_activation_prob(max_nLAT):\n",
        "                            nActivated += 1\n",
        "                    else:\n",
        "                        if max_nLAT >= nLATthreshold:\n",
        "                            nActivated += 1\n",
        "                prob_activate = nActivated / nCell\n",
        "                ligand_density = kbind / LIGAND_DENSITY_TO_KBIND_FACTOR\n",
        "                print(f'>>> P_act(nCell={nCell}): {prob_activate}')\n",
        "                df = pd.concat([df, pd.DataFrame.from_records(\n",
        "                    [{\n",
        "                    'kunbind' : kunbind, \n",
        "                    'kbind' : kbind, \n",
        "                    'ligand_density' : ligand_density, \n",
        "                    'prob_activate' : prob_activate, \n",
        "                    'nCell' : nCell\n",
        "                    }]\n",
        "                    )],\n",
        "                    ignore_index = True,\n",
        "                )\n",
        "\n",
        "                if plotTimeTraces:\n",
        "                    countmsg = f'n_pMHC={len(pMhcLifeLogs)}, n_Cell={nCell}'\n",
        "                    fig, axs = plt.subplots(1,3, figsize=(12, 3))\n",
        "                    j = 0\n",
        "                    x = time_points\n",
        "                    y = pMhcLifeLogs\n",
        "                    axs[j].plot(x, sum(~np.isnan(y)), linewidth=2, color='black')\n",
        "                    axs[j].xaxis.set_tick_params(direction='in')\n",
        "                    axs[j].yaxis.set_tick_params(direction='in')\n",
        "                    axs[j].set_xlabel('Dwell time (s)')\n",
        "                    axs[j].set_ylabel('Count')\n",
        "                    axs[j].set_title('pMHC dwell time distribution')\n",
        "                    axs[j].set_yscale('log')\n",
        "                    plt.text(0.9, 0.9, countmsg, ha='right', va='top', transform=axs[j].transAxes)\n",
        "                    for i in [0, 1]:\n",
        "                        j = i + 1\n",
        "                        for timetrace in samples[:,:,i]: # x is each trial sequence\n",
        "                            axs[j].plot(time_points, timetrace, linewidth=2, alpha=.7, color='gray')\n",
        "                        axs[j].plot(time_points, samples[:,:,i].mean(axis=0), linewidth=2, alpha=.6, color='orange')\n",
        "                        axs[j].xaxis.set_tick_params(direction='in')\n",
        "                        axs[j].yaxis.set_tick_params(direction='in')\n",
        "                        axs[j].set_xlabel('Time (s)')\n",
        "                        axs[j].set_ylabel('Count')\n",
        "                    axs[1].set_title('Number of bound pMHC')\n",
        "                    axs[2].set_title('Number of LAT condensates')\n",
        "                    # fig.suptitle(countmsg, fontsize = 10)\n",
        "                    plt.show()\n",
        "    print()\n",
        "    print(df)\n",
        "    print()\n",
        "    if make_output_files:\n",
        "      if outputname == '':\n",
        "        outputname = str(datetime.datetime.now())\n",
        "        outputname = outputname.replace(':', '_')\n",
        "      df.to_csv(f'{outputname}.csv')\n",
        "\n",
        "\n",
        "    if plotResponseCurve:\n",
        "        n_kunbinds = len(kunbind_list)\n",
        "        fig, ax = plt.subplots(figsize=(5,3))\n",
        "        palette = itertools.cycle(sns.color_palette('husl',n_kunbinds))\n",
        "        ax.set_prop_cycle('color',[plt.cm.Pastel2(i) for i in np.linspace(0, 1, n_kunbinds)])\n",
        "        labels = [(r'$k_{unbind}:$' + f'{k}' + '/s') for k in kunbind_list]\n",
        "\n",
        "        for i in range(n_kunbinds):\n",
        "            dfsub = df.loc[df['kunbind'] == kunbind_list[i]]\n",
        "            sns.lineplot(data=dfsub, x='ligand_density', y='prob_activate', ci='sd', err_style='bars', \n",
        "                marker='o', markersize=8, linewidth=2,\n",
        "                color=next(palette),\n",
        "                label=labels[i]\n",
        "                )\n",
        "        ax.set(xscale='log')\n",
        "        ax.set_xlabel(r'$Density_{pMHC}(/um2)$', labelpad=10)\n",
        "        ax.set_ylabel(r'$P_{activate}$', labelpad=10)\n",
        "        ax.legend(frameon=False, fontsize=12, loc=\"upper left\")\n",
        "        fig.suptitle('Activation probability Vs. pMHC surface density\\n', fontsize=12,)\n",
        "        plt.xscale('log')\n",
        "        if make_output_files:\n",
        "          if outputname == '':\n",
        "            outputname = str(datetime.datetime.now())\n",
        "            outputname = outputname.replace(':', '_')\n",
        "          plt.savefig(f'{outputname}.png', dpi=300, transparent=False, bbox_inches='tight')\n",
        "          plt.savefig(f'{outputname}.pdf', transparent=True, bbox_inches='tight')\n",
        "        plt.show()\n",
        "\n",
        "\n",
        "def draw_LATc_propensity():\n",
        "    x = np.linspace(0, 100, 100)\n",
        "    y = [LAT_formation_func(s) for s in x]\n",
        "    fig = plt.figure(figsize=(5, 2)) # The unit is inches\n",
        "    ax = fig.add_axes([0.2, 0.2, 0.6, .6]) # This unit is percentage\n",
        "    ax.plot(x, y, \n",
        "            color='cornflowerblue', \n",
        "            # label=f'0.3 * stats.gamma.pdf\\n(t, a={a}, scale={scale})', \n",
        "            linewidth=3,\n",
        "            )\n",
        "    ax.set_title('LAT formation propensity', fontsize=14,)\n",
        "    ax.set_xlabel(r'bound time (s)', labelpad=10)\n",
        "    ax.set_ylabel(r'$P_{LAT}$', labelpad=10)\n",
        "    ax.legend(frameon=False, fontsize=9, loc='upper right')\n",
        "    plt.show()"
      ]
    },
    {
      "cell_type": "markdown",
      "metadata": {
        "id": "fqhwULdTA1S5"
      },
      "source": [
        "# **Plot the LAT condensation propensity function (optional)** \n",
        "Check the LAT formation propensity being used."
      ]
    },
    {
      "cell_type": "code",
      "execution_count": null,
      "metadata": {
        "colab": {
          "base_uri": "https://localhost:8080/",
          "height": 192
        },
        "id": "S3B4b1GIDr9L",
        "outputId": "6b01e724-774d-4cd8-a776-6d5c5ad4ae8c"
      },
      "outputs": [
        {
          "output_type": "stream",
          "name": "stderr",
          "text": [
            "WARNING:matplotlib.legend:No handles with labels found to put in legend.\n"
          ]
        },
        {
          "output_type": "display_data",
          "data": {
            "text/plain": [
              "<Figure size 360x144 with 1 Axes>"
            ],
            "image/png": "[encoded data removed]"
          },
          "metadata": {
            "needs_background": "light"
          }
        }
      ],
      "source": [
        "draw_LATc_propensity()"
      ]
    },
    {
      "cell_type": "markdown",
      "metadata": {
        "id": "ovwY3a93D4eB"
      },
      "source": [
        "McAffee et al. bioRxiv (2021)\n",
        "is a good match with the gamma distribution pdf of alpha=2, theta=14. \\\\\n",
        "![ref](https://i.imgur.com/ZmP3C5x.png)![ref](https://i.imgur.com/aktke9i.png) \n",
        "\n"
      ]
    },
    {
      "cell_type": "markdown",
      "metadata": {
        "id": "DCUYHVE-AoaZ"
      },
      "source": [
        "# **Simulate a T-cell (optional)** \n",
        "plotTimeTraces = True"
      ]
    },
    {
      "cell_type": "code",
      "execution_count": null,
      "metadata": {
        "colab": {
          "base_uri": "https://localhost:8080/",
          "height": 454,
          "referenced_widgets": [
            "007a9227e25b4e709187c82c20e8d782",
            "805cc31c52a3484db96a79b763707b63",
            "ec4fa8a871f34b58b13887b4e7244282"
          ]
        },
        "id": "xF7o1FerEU75",
        "outputId": "e9c33de7-2800-4412-bbc4-ff2d4c30cadf"
      },
      "outputs": [
        {
          "output_type": "stream",
          "name": "stdout",
          "text": [
            "\n",
            "================ LIGAND:  kunbind = 0.11 / s\n",
            "\n",
            "~~~ kunbind = 0.11 / s, ligand density = 1.000 / um2\n",
            "ligand: 0.11/s density: 1.000/um2\n"
          ]
        },
        {
          "output_type": "display_data",
          "data": {
            "text/plain": [
              "IntProgress(value=0, description='1 cells', max=1)"
            ],
            "application/vnd.jupyter.widget-view+json": {
              "version_major": 2,
              "version_minor": 0,
              "model_id": "007a9227e25b4e709187c82c20e8d782"
            }
          },
          "metadata": {}
        },
        {
          "output_type": "stream",
          "name": "stdout",
          "text": [
            ">>> P_act(nCell=1): 0.0\n"
          ]
        },
        {
          "output_type": "display_data",
          "data": {
            "text/plain": [
              "<Figure size 864x216 with 3 Axes>"
            ],
            "image/png": "[encoded data removed]"
          },
          "metadata": {
            "needs_background": "light"
          }
        },
        {
          "output_type": "stream",
          "name": "stdout",
          "text": [
            "\n",
            "   kunbind  kbind  ligand_density  prob_activate nCell\n",
            "0     0.11    1.3             1.0            0.0     1\n",
            "\n"
          ]
        }
      ],
      "source": [
        "run(\n",
        "    ligand_densities = [1], \n",
        "    kunbind_list = [0.11], \n",
        "    endtime=300, \n",
        "    plotTimeTraces=True, \n",
        "    nLATthreshold=1000, \n",
        "    early_termination_option=False,\n",
        "    probabilistic_activation=False,\n",
        "    stop_at_current_lat_n=100\n",
        "    )"
      ]
    },
    {
      "cell_type": "markdown",
      "metadata": {
        "id": "EGCOHFB7EXVK"
      },
      "source": [
        "# **Simulate over a range of ligand_densities and pMHCs (the main test)**\n",
        "MCC k_unbind = 0.042/s \\\\\n",
        "T102S k_unbind = 0.11/s \\\\\n",
        "plotResponseCurve = True"
      ]
    },
    {
      "cell_type": "code",
      "execution_count": null,
      "metadata": {
        "colab": {
          "base_uri": "https://localhost:8080/",
          "height": 615,
          "referenced_widgets": [
            "b501e906405b4e8ea12f41246c7c0ef9",
            "3c1316347f3542d1bbb55abb946cf81c",
            "c19d7afc0b3e42c78861f79e0b6e204e"
          ]
        },
        "id": "CBDZkRDNAsp4",
        "outputId": "32839fa4-a437-43d1-f983-64d66f5c1be3"
      },
      "outputs": [
        {
          "metadata": {
            "tags": null
          },
          "name": "stdout",
          "output_type": "stream",
          "text": [
            "\n",
            "================ LIGAND:  kunbind = 1.1 / s\n",
            "\n",
            "~~~ kunbind = 1.1 / s, ligand density = 100.000 / um2\n",
            "ligand: 1.1/s density: 100.000/um2\n"
          ]
        },
        {
          "data": {
            "application/vnd.jupyter.widget-view+json": {
              "model_id": "b501e906405b4e8ea12f41246c7c0ef9",
              "version_major": 2,
              "version_minor": 0
            },
            "text/plain": [
              "IntProgress(value=0, description='1 cells', max=1)"
            ]
          },
          "metadata": {},
          "output_type": "display_data"
        },
        {
          "output_type": "stream",
          "name": "stdout",
          "text": [
            ">>> P_act(nCell=1): 0.0\n",
            ">>> P_act(nCell=1): 0.0\n",
            ">>> P_act(nCell=1): 1.0\n",
            ">>> P_act(nCell=1): 0.0\n",
            ">>> P_act(nCell=1): 1.0\n",
            ">>> P_act(nCell=1): 0.0\n",
            ">>> P_act(nCell=1): 1.0\n"
          ]
        },
        {
          "output_type": "error",
          "ename": "KeyboardInterrupt",
          "evalue": "ignored",
          "traceback": [
            "\u001b[0;31m---------------------------------------------------------------------------\u001b[0m",
            "\u001b[0;31mKeyboardInterrupt\u001b[0m                         Traceback (most recent call last)",
            "\u001b[0;32m<ipython-input-2-63e5f6bdaf11>\u001b[0m in \u001b[0;36m<module>\u001b[0;34m\u001b[0m\n\u001b[1;32m     11\u001b[0m       \u001b[0mmake_output_files\u001b[0m\u001b[0;34m=\u001b[0m\u001b[0;32mTrue\u001b[0m\u001b[0;34m,\u001b[0m\u001b[0;34m\u001b[0m\u001b[0;34m\u001b[0m\u001b[0m\n\u001b[1;32m     12\u001b[0m       \u001b[0mstop_at_current_lat_n\u001b[0m\u001b[0;34m=\u001b[0m\u001b[0;36m10\u001b[0m\u001b[0;34m,\u001b[0m\u001b[0;34m\u001b[0m\u001b[0;34m\u001b[0m\u001b[0m\n\u001b[0;32m---> 13\u001b[0;31m       \u001b[0moutputname\u001b[0m \u001b[0;34m=\u001b[0m \u001b[0;34m'a=5, shape=5.6'\u001b[0m\u001b[0;34m,\u001b[0m\u001b[0;34m\u001b[0m\u001b[0;34m\u001b[0m\u001b[0m\n\u001b[0m\u001b[1;32m     14\u001b[0m     )\n",
            "\u001b[0;32m<ipython-input-1-9c7a84b6c6ab>\u001b[0m in \u001b[0;36mrun\u001b[0;34m(ligand_densities, kunbind_list, nCell, endtime, nTimePoints, n_P_act_estimation, nLATthreshold, plotTimeTraces, plotResponseCurve, early_termination_option, probabilistic_activation, make_output_files, stop_at_current_lat_n, outputname)\u001b[0m\n\u001b[1;32m    246\u001b[0m                                                           \u001b[0mcalc_propensities\u001b[0m\u001b[0;34m,\u001b[0m \u001b[0mtime_points\u001b[0m\u001b[0;34m,\u001b[0m \u001b[0margs\u001b[0m\u001b[0;34m=\u001b[0m\u001b[0margs\u001b[0m\u001b[0;34m,\u001b[0m\u001b[0;34m\u001b[0m\u001b[0;34m\u001b[0m\u001b[0m\n\u001b[1;32m    247\u001b[0m                                                           \u001b[0mnLATthreshold\u001b[0m\u001b[0;34m=\u001b[0m\u001b[0mnLATthreshold\u001b[0m\u001b[0;34m,\u001b[0m \u001b[0mearly_termination_option\u001b[0m\u001b[0;34m=\u001b[0m\u001b[0mearly_termination_option\u001b[0m\u001b[0;34m,\u001b[0m\u001b[0;34m\u001b[0m\u001b[0;34m\u001b[0m\u001b[0m\n\u001b[0;32m--> 248\u001b[0;31m                                                           \u001b[0mstop_at_current_lat_n\u001b[0m\u001b[0;34m=\u001b[0m\u001b[0mstop_at_current_lat_n\u001b[0m\u001b[0;34m\u001b[0m\u001b[0;34m\u001b[0m\u001b[0m\n\u001b[0m\u001b[1;32m    249\u001b[0m                                                          )\n\u001b[1;32m    250\u001b[0m                     \u001b[0mpMhcLifeLogs\u001b[0m \u001b[0;34m=\u001b[0m \u001b[0mnp\u001b[0m\u001b[0;34m.\u001b[0m\u001b[0mappend\u001b[0m\u001b[0;34m(\u001b[0m\u001b[0mpMhcLifeLogs\u001b[0m\u001b[0;34m,\u001b[0m \u001b[0mtemp\u001b[0m\u001b[0;34m)\u001b[0m\u001b[0;34m\u001b[0m\u001b[0;34m\u001b[0m\u001b[0m\n",
            "\u001b[0;32m<ipython-input-1-9c7a84b6c6ab>\u001b[0m in \u001b[0;36mgillespie_ssa\u001b[0;34m(propensity_func, time_points, args, nLATthreshold, early_termination_option, stop_at_current_lat_n)\u001b[0m\n\u001b[1;32m    107\u001b[0m \u001b[0;34m\u001b[0m\u001b[0m\n\u001b[1;32m    108\u001b[0m             \u001b[0;31m# draw the event and time step\u001b[0m\u001b[0;34m\u001b[0m\u001b[0;34m\u001b[0m\u001b[0;34m\u001b[0m\u001b[0m\n\u001b[0;32m--> 109\u001b[0;31m             \u001b[0mevent\u001b[0m\u001b[0;34m,\u001b[0m \u001b[0mdt\u001b[0m \u001b[0;34m=\u001b[0m \u001b[0mgillespie_draw\u001b[0m\u001b[0;34m(\u001b[0m\u001b[0mpropensity_func\u001b[0m\u001b[0;34m,\u001b[0m \u001b[0mpMhcLifeTimes\u001b[0m\u001b[0;34m[\u001b[0m\u001b[0;34m:\u001b[0m\u001b[0;34m,\u001b[0m\u001b[0;36m1\u001b[0m\u001b[0;34m]\u001b[0m\u001b[0;34m,\u001b[0m \u001b[0margs\u001b[0m\u001b[0;34m)\u001b[0m \u001b[0;31m# event number also indicates the index of the pMhc that results in LAT condensation.\u001b[0m\u001b[0;34m\u001b[0m\u001b[0;34m\u001b[0m\u001b[0m\n\u001b[0m\u001b[1;32m    110\u001b[0m \u001b[0;34m\u001b[0m\u001b[0m\n\u001b[1;32m    111\u001b[0m             \u001b[0;32mif\u001b[0m \u001b[0;32mnot\u001b[0m \u001b[0misinstance\u001b[0m\u001b[0;34m(\u001b[0m\u001b[0mevent\u001b[0m\u001b[0;34m,\u001b[0m \u001b[0mint\u001b[0m\u001b[0;34m)\u001b[0m\u001b[0;34m:\u001b[0m\u001b[0;34m\u001b[0m\u001b[0;34m\u001b[0m\u001b[0m\n",
            "\u001b[0;32m<ipython-input-1-9c7a84b6c6ab>\u001b[0m in \u001b[0;36mgillespie_draw\u001b[0;34m(propensity_func, pMhcLifeTimes, args)\u001b[0m\n\u001b[1;32m     58\u001b[0m \u001b[0;32mdef\u001b[0m \u001b[0mgillespie_draw\u001b[0m\u001b[0;34m(\u001b[0m\u001b[0mpropensity_func\u001b[0m\u001b[0;34m,\u001b[0m \u001b[0mpMhcLifeTimes\u001b[0m\u001b[0;34m,\u001b[0m \u001b[0margs\u001b[0m\u001b[0;34m=\u001b[0m\u001b[0;34m(\u001b[0m\u001b[0;34m)\u001b[0m\u001b[0;34m)\u001b[0m\u001b[0;34m:\u001b[0m\u001b[0;34m\u001b[0m\u001b[0;34m\u001b[0m\u001b[0m\n\u001b[1;32m     59\u001b[0m     \u001b[0;31m# Compute propensities\u001b[0m\u001b[0;34m\u001b[0m\u001b[0;34m\u001b[0m\u001b[0;34m\u001b[0m\u001b[0m\n\u001b[0;32m---> 60\u001b[0;31m     \u001b[0mcalc_propensities\u001b[0m \u001b[0;34m=\u001b[0m \u001b[0mpropensity_func\u001b[0m\u001b[0;34m(\u001b[0m\u001b[0mpMhcLifeTimes\u001b[0m\u001b[0;34m,\u001b[0m \u001b[0;34m*\u001b[0m\u001b[0margs\u001b[0m\u001b[0;34m)\u001b[0m\u001b[0;34m\u001b[0m\u001b[0;34m\u001b[0m\u001b[0m\n\u001b[0m\u001b[1;32m     61\u001b[0m     \u001b[0;31m# Sum of propensities\u001b[0m\u001b[0;34m\u001b[0m\u001b[0;34m\u001b[0m\u001b[0;34m\u001b[0m\u001b[0m\n\u001b[1;32m     62\u001b[0m     \u001b[0mprops_sum\u001b[0m \u001b[0;34m=\u001b[0m \u001b[0mcalc_propensities\u001b[0m\u001b[0;34m.\u001b[0m\u001b[0msum\u001b[0m\u001b[0;34m(\u001b[0m\u001b[0;34m)\u001b[0m\u001b[0;34m\u001b[0m\u001b[0;34m\u001b[0m\u001b[0m\n",
            "\u001b[0;32m<ipython-input-1-9c7a84b6c6ab>\u001b[0m in \u001b[0;36mcalc_propensities\u001b[0;34m(pMhcLifeTimes, kbind, kunbind)\u001b[0m\n\u001b[1;32m     40\u001b[0m         \u001b[0;32mfor\u001b[0m \u001b[0mt\u001b[0m \u001b[0;32min\u001b[0m \u001b[0mnp\u001b[0m\u001b[0;34m.\u001b[0m\u001b[0mnditer\u001b[0m\u001b[0;34m(\u001b[0m\u001b[0mpMhcLifeTimes\u001b[0m\u001b[0;34m)\u001b[0m\u001b[0;34m:\u001b[0m\u001b[0;34m\u001b[0m\u001b[0;34m\u001b[0m\u001b[0m\n\u001b[1;32m     41\u001b[0m             \u001b[0;31m#########################################################################################\u001b[0m\u001b[0;34m\u001b[0m\u001b[0;34m\u001b[0m\u001b[0;34m\u001b[0m\u001b[0m\n\u001b[0;32m---> 42\u001b[0;31m             \u001b[0mLAT_assembly_rate\u001b[0m \u001b[0;34m=\u001b[0m \u001b[0mLAT_formation_func\u001b[0m\u001b[0;34m(\u001b[0m\u001b[0mt\u001b[0m\u001b[0;34m)\u001b[0m\u001b[0;34m\u001b[0m\u001b[0;34m\u001b[0m\u001b[0m\n\u001b[0m\u001b[1;32m     43\u001b[0m             \u001b[0;31m#########################################################################################\u001b[0m\u001b[0;34m\u001b[0m\u001b[0;34m\u001b[0m\u001b[0;34m\u001b[0m\u001b[0m\n\u001b[1;32m     44\u001b[0m             \u001b[0mpropensities\u001b[0m \u001b[0;34m=\u001b[0m \u001b[0mnp\u001b[0m\u001b[0;34m.\u001b[0m\u001b[0mappend\u001b[0m\u001b[0;34m(\u001b[0m\u001b[0mpropensities\u001b[0m\u001b[0;34m,\u001b[0m \u001b[0mLAT_assembly_rate\u001b[0m\u001b[0;34m)\u001b[0m\u001b[0;34m\u001b[0m\u001b[0;34m\u001b[0m\u001b[0m\n",
            "\u001b[0;32m<ipython-input-1-9c7a84b6c6ab>\u001b[0m in \u001b[0;36mLAT_formation_func\u001b[0;34m(t)\u001b[0m\n\u001b[1;32m     28\u001b[0m \u001b[0;34m\u001b[0m\u001b[0m\n\u001b[1;32m     29\u001b[0m \u001b[0;32mdef\u001b[0m \u001b[0mLAT_formation_func\u001b[0m\u001b[0;34m(\u001b[0m\u001b[0mt\u001b[0m\u001b[0;34m)\u001b[0m\u001b[0;34m:\u001b[0m\u001b[0;34m\u001b[0m\u001b[0;34m\u001b[0m\u001b[0m\n\u001b[0;32m---> 30\u001b[0;31m     \u001b[0mret\u001b[0m \u001b[0;34m=\u001b[0m \u001b[0;36m0.3\u001b[0m \u001b[0;34m*\u001b[0m \u001b[0mstats\u001b[0m\u001b[0;34m.\u001b[0m\u001b[0mgamma\u001b[0m\u001b[0;34m.\u001b[0m\u001b[0mpdf\u001b[0m\u001b[0;34m(\u001b[0m\u001b[0mt\u001b[0m\u001b[0;34m,\u001b[0m \u001b[0ma\u001b[0m\u001b[0;34m=\u001b[0m\u001b[0;36m4\u001b[0m\u001b[0;34m,\u001b[0m \u001b[0mscale\u001b[0m\u001b[0;34m=\u001b[0m\u001b[0;36m7\u001b[0m\u001b[0;34m)\u001b[0m \u001b[0;31m#a=2.86, scale=7.03 for pMHC a=2.52, scale=10.48 for CD80\u001b[0m\u001b[0;34m\u001b[0m\u001b[0;34m\u001b[0m\u001b[0m\n\u001b[0m\u001b[1;32m     31\u001b[0m     \u001b[0;32mreturn\u001b[0m \u001b[0mret\u001b[0m\u001b[0;34m\u001b[0m\u001b[0;34m\u001b[0m\u001b[0m\n\u001b[1;32m     32\u001b[0m \u001b[0;34m\u001b[0m\u001b[0m\n",
            "\u001b[0;32m/usr/local/lib/python3.7/dist-packages/scipy/stats/_distn_infrastructure.py\u001b[0m in \u001b[0;36mpdf\u001b[0;34m(self, x, *args, **kwds)\u001b[0m\n\u001b[1;32m   1870\u001b[0m         \u001b[0mx\u001b[0m \u001b[0;34m=\u001b[0m \u001b[0mnp\u001b[0m\u001b[0;34m.\u001b[0m\u001b[0masarray\u001b[0m\u001b[0;34m(\u001b[0m\u001b[0;34m(\u001b[0m\u001b[0mx\u001b[0m \u001b[0;34m-\u001b[0m \u001b[0mloc\u001b[0m\u001b[0;34m)\u001b[0m\u001b[0;34m/\u001b[0m\u001b[0mscale\u001b[0m\u001b[0;34m,\u001b[0m \u001b[0mdtype\u001b[0m\u001b[0;34m=\u001b[0m\u001b[0mdtyp\u001b[0m\u001b[0;34m)\u001b[0m\u001b[0;34m\u001b[0m\u001b[0;34m\u001b[0m\u001b[0m\n\u001b[1;32m   1871\u001b[0m         \u001b[0mcond0\u001b[0m \u001b[0;34m=\u001b[0m \u001b[0mself\u001b[0m\u001b[0;34m.\u001b[0m\u001b[0m_argcheck\u001b[0m\u001b[0;34m(\u001b[0m\u001b[0;34m*\u001b[0m\u001b[0margs\u001b[0m\u001b[0;34m)\u001b[0m \u001b[0;34m&\u001b[0m \u001b[0;34m(\u001b[0m\u001b[0mscale\u001b[0m \u001b[0;34m>\u001b[0m \u001b[0;36m0\u001b[0m\u001b[0;34m)\u001b[0m\u001b[0;34m\u001b[0m\u001b[0;34m\u001b[0m\u001b[0m\n\u001b[0;32m-> 1872\u001b[0;31m         \u001b[0mcond1\u001b[0m \u001b[0;34m=\u001b[0m \u001b[0mself\u001b[0m\u001b[0;34m.\u001b[0m\u001b[0m_support_mask\u001b[0m\u001b[0;34m(\u001b[0m\u001b[0mx\u001b[0m\u001b[0;34m,\u001b[0m \u001b[0;34m*\u001b[0m\u001b[0margs\u001b[0m\u001b[0;34m)\u001b[0m \u001b[0;34m&\u001b[0m \u001b[0;34m(\u001b[0m\u001b[0mscale\u001b[0m \u001b[0;34m>\u001b[0m \u001b[0;36m0\u001b[0m\u001b[0;34m)\u001b[0m\u001b[0;34m\u001b[0m\u001b[0;34m\u001b[0m\u001b[0m\n\u001b[0m\u001b[1;32m   1873\u001b[0m         \u001b[0mcond\u001b[0m \u001b[0;34m=\u001b[0m \u001b[0mcond0\u001b[0m \u001b[0;34m&\u001b[0m \u001b[0mcond1\u001b[0m\u001b[0;34m\u001b[0m\u001b[0;34m\u001b[0m\u001b[0m\n\u001b[1;32m   1874\u001b[0m         \u001b[0moutput\u001b[0m \u001b[0;34m=\u001b[0m \u001b[0mzeros\u001b[0m\u001b[0;34m(\u001b[0m\u001b[0mshape\u001b[0m\u001b[0;34m(\u001b[0m\u001b[0mcond\u001b[0m\u001b[0;34m)\u001b[0m\u001b[0;34m,\u001b[0m \u001b[0mdtyp\u001b[0m\u001b[0;34m)\u001b[0m\u001b[0;34m\u001b[0m\u001b[0;34m\u001b[0m\u001b[0m\n",
            "\u001b[0;32m/usr/local/lib/python3.7/dist-packages/scipy/stats/_distn_infrastructure.py\u001b[0m in \u001b[0;36m_support_mask\u001b[0;34m(self, x, *args)\u001b[0m\n\u001b[1;32m    993\u001b[0m         \u001b[0ma\u001b[0m\u001b[0;34m,\u001b[0m \u001b[0mb\u001b[0m \u001b[0;34m=\u001b[0m \u001b[0mself\u001b[0m\u001b[0;34m.\u001b[0m\u001b[0m_get_support\u001b[0m\u001b[0;34m(\u001b[0m\u001b[0;34m*\u001b[0m\u001b[0margs\u001b[0m\u001b[0;34m)\u001b[0m\u001b[0;34m\u001b[0m\u001b[0;34m\u001b[0m\u001b[0m\n\u001b[1;32m    994\u001b[0m         \u001b[0;32mwith\u001b[0m \u001b[0mnp\u001b[0m\u001b[0;34m.\u001b[0m\u001b[0merrstate\u001b[0m\u001b[0;34m(\u001b[0m\u001b[0minvalid\u001b[0m\u001b[0;34m=\u001b[0m\u001b[0;34m'ignore'\u001b[0m\u001b[0;34m)\u001b[0m\u001b[0;34m:\u001b[0m\u001b[0;34m\u001b[0m\u001b[0;34m\u001b[0m\u001b[0m\n\u001b[0;32m--> 995\u001b[0;31m             \u001b[0;32mreturn\u001b[0m \u001b[0;34m(\u001b[0m\u001b[0ma\u001b[0m \u001b[0;34m<=\u001b[0m \u001b[0mx\u001b[0m\u001b[0;34m)\u001b[0m \u001b[0;34m&\u001b[0m \u001b[0;34m(\u001b[0m\u001b[0mx\u001b[0m \u001b[0;34m<=\u001b[0m \u001b[0mb\u001b[0m\u001b[0;34m)\u001b[0m\u001b[0;34m\u001b[0m\u001b[0;34m\u001b[0m\u001b[0m\n\u001b[0m\u001b[1;32m    996\u001b[0m \u001b[0;34m\u001b[0m\u001b[0m\n\u001b[1;32m    997\u001b[0m     \u001b[0;32mdef\u001b[0m \u001b[0m_open_support_mask\u001b[0m\u001b[0;34m(\u001b[0m\u001b[0mself\u001b[0m\u001b[0;34m,\u001b[0m \u001b[0mx\u001b[0m\u001b[0;34m,\u001b[0m \u001b[0;34m*\u001b[0m\u001b[0margs\u001b[0m\u001b[0;34m)\u001b[0m\u001b[0;34m:\u001b[0m\u001b[0;34m\u001b[0m\u001b[0;34m\u001b[0m\u001b[0m\n",
            "\u001b[0;31mKeyboardInterrupt\u001b[0m: "
          ]
        }
      ],
      "source": [
        "run(\n",
        "      ligand_densities = [100],#[0.001, 0.01, 0.03, 0.1, 0.2, 0.3, 0.7, 1],\n",
        "      kunbind_list = [1.1],#[0.01, 0.05, 0.1, 0.3, 1], #[3.3, 1.1], #[[3.5, 1.1, 0.35, 0.11, 0.042, 0.035, 0.011, 0.0035]], \n",
        "      nCell = 1, \n",
        "      n_P_act_estimation= 100,\n",
        "      # nLATthreshold = 5, \n",
        "      endtime=300, \n",
        "      plotResponseCurve=True, \n",
        "      probabilistic_activation=True,\n",
        "      early_termination_option=False,\n",
        "      make_output_files=True,\n",
        "      stop_at_current_lat_n=10,\n",
        "      outputname = 'a=5, shape=5.6',\n",
        "    )"
      ]
    }
  ],
  "metadata": {
    "colab": {
      "collapsed_sections": [],
      "name": "latsim02_edit_freely.ipynb",
      "provenance": []
    },
    "kernelspec": {
      "display_name": "Python 3",
      "language": "python",
      "name": "python3"
    },
    "language_info": {
      "codemirror_mode": {
        "name": "ipython",
        "version": 3
      },
      "file_extension": ".py",
      "mimetype": "text/x-python",
      "name": "python",
      "nbconvert_exporter": "python",
      "pygments_lexer": "ipython3",
      "version": "3.6.4"
    },
    "widgets": {
      "application/vnd.jupyter.widget-state+json": {
        "3c1316347f3542d1bbb55abb946cf81c": {
          "model_module": "@jupyter-widgets/base",
          "model_module_version": "1.2.0",
          "model_name": "LayoutModel",
          "state": {
            "_model_module": "@jupyter-widgets/base",
            "_model_module_version": "1.2.0",
            "_model_name": "LayoutModel",
            "_view_count": null,
            "_view_module": "@jupyter-widgets/base",
            "_view_module_version": "1.2.0",
            "_view_name": "LayoutView",
            "align_content": null,
            "align_items": null,
            "align_self": null,
            "border": null,
            "bottom": null,
            "display": null,
            "flex": null,
            "flex_flow": null,
            "grid_area": null,
            "grid_auto_columns": null,
            "grid_auto_flow": null,
            "grid_auto_rows": null,
            "grid_column": null,
            "grid_gap": null,
            "grid_row": null,
            "grid_template_areas": null,
            "grid_template_columns": null,
            "grid_template_rows": null,
            "height": null,
            "justify_content": null,
            "justify_items": null,
            "left": null,
            "margin": null,
            "max_height": null,
            "max_width": null,
            "min_height": null,
            "min_width": null,
            "object_fit": null,
            "object_position": null,
            "order": null,
            "overflow": null,
            "overflow_x": null,
            "overflow_y": null,
            "padding": null,
            "right": null,
            "top": null,
            "visibility": null,
            "width": null
          }
        },
        "b501e906405b4e8ea12f41246c7c0ef9": {
          "model_module": "@jupyter-widgets/controls",
          "model_module_version": "1.5.0",
          "model_name": "IntProgressModel",
          "state": {
            "_dom_classes": [],
            "_model_module": "@jupyter-widgets/controls",
            "_model_module_version": "1.5.0",
            "_model_name": "IntProgressModel",
            "_view_count": null,
            "_view_module": "@jupyter-widgets/controls",
            "_view_module_version": "1.5.0",
            "_view_name": "ProgressView",
            "bar_style": "",
            "description": "1 cells",
            "description_tooltip": null,
            "layout": "IPY_MODEL_3c1316347f3542d1bbb55abb946cf81c",
            "max": 1,
            "min": 0,
            "orientation": "horizontal",
            "style": "IPY_MODEL_c19d7afc0b3e42c78861f79e0b6e204e",
            "value": 0
          }
        },
        "c19d7afc0b3e42c78861f79e0b6e204e": {
          "model_module": "@jupyter-widgets/controls",
          "model_module_version": "1.5.0",
          "model_name": "ProgressStyleModel",
          "state": {
            "_model_module": "@jupyter-widgets/controls",
            "_model_module_version": "1.5.0",
            "_model_name": "ProgressStyleModel",
            "_view_count": null,
            "_view_module": "@jupyter-widgets/base",
            "_view_module_version": "1.2.0",
            "_view_name": "StyleView",
            "bar_color": null,
            "description_width": ""
          }
        },
        "007a9227e25b4e709187c82c20e8d782": {
          "model_module": "@jupyter-widgets/controls",
          "model_name": "IntProgressModel",
          "model_module_version": "1.5.0",
          "state": {
            "_dom_classes": [],
            "_model_module": "@jupyter-widgets/controls",
            "_model_module_version": "1.5.0",
            "_model_name": "IntProgressModel",
            "_view_count": null,
            "_view_module": "@jupyter-widgets/controls",
            "_view_module_version": "1.5.0",
            "_view_name": "ProgressView",
            "bar_style": "",
            "description": "1 cells",
            "description_tooltip": null,
            "layout": "IPY_MODEL_805cc31c52a3484db96a79b763707b63",
            "max": 1,
            "min": 0,
            "orientation": "horizontal",
            "style": "IPY_MODEL_ec4fa8a871f34b58b13887b4e7244282",
            "value": 0
          }
        },
        "805cc31c52a3484db96a79b763707b63": {
          "model_module": "@jupyter-widgets/base",
          "model_name": "LayoutModel",
          "model_module_version": "1.2.0",
          "state": {
            "_model_module": "@jupyter-widgets/base",
            "_model_module_version": "1.2.0",
            "_model_name": "LayoutModel",
            "_view_count": null,
            "_view_module": "@jupyter-widgets/base",
            "_view_module_version": "1.2.0",
            "_view_name": "LayoutView",
            "align_content": null,
            "align_items": null,
            "align_self": null,
            "border": null,
            "bottom": null,
            "display": null,
            "flex": null,
            "flex_flow": null,
            "grid_area": null,
            "grid_auto_columns": null,
            "grid_auto_flow": null,
            "grid_auto_rows": null,
            "grid_column": null,
            "grid_gap": null,
            "grid_row": null,
            "grid_template_areas": null,
            "grid_template_columns": null,
            "grid_template_rows": null,
            "height": null,
            "justify_content": null,
            "justify_items": null,
            "left": null,
            "margin": null,
            "max_height": null,
            "max_width": null,
            "min_height": null,
            "min_width": null,
            "object_fit": null,
            "object_position": null,
            "order": null,
            "overflow": null,
            "overflow_x": null,
            "overflow_y": null,
            "padding": null,
            "right": null,
            "top": null,
            "visibility": null,
            "width": null
          }
        },
        "ec4fa8a871f34b58b13887b4e7244282": {
          "model_module": "@jupyter-widgets/controls",
          "model_name": "ProgressStyleModel",
          "model_module_version": "1.5.0",
          "state": {
            "_model_module": "@jupyter-widgets/controls",
            "_model_module_version": "1.5.0",
            "_model_name": "ProgressStyleModel",
            "_view_count": null,
            "_view_module": "@jupyter-widgets/base",
            "_view_module_version": "1.2.0",
            "_view_name": "StyleView",
            "bar_color": null,
            "description_width": ""
          }
        }
      }
    }
  },
  "nbformat": 4,
  "nbformat_minor": 0
}